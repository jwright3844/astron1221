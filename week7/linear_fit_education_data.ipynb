{
  "nbformat": 4,
  "nbformat_minor": 0,
  "metadata": {
    "colab": {
      "provenance": []
    },
    "kernelspec": {
      "name": "python3",
      "display_name": "Python 3"
    },
    "language_info": {
      "name": "python"
    }
  },
  "cells": [
    {
      "cell_type": "code",
      "execution_count": 4,
      "metadata": {
        "id": "zczlcrceI_Ul"
      },
      "outputs": [],
      "source": [
        "import numpy as np\n",
        "\n",
        "# input: education level, output: income\n",
        "\n",
        "education = [1, 2, 3, 4, 5, 6]\n",
        "income = [35500, 41800, 45200, 49500, 66600, 80200]\n",
        "\n",
        "y = income\n",
        "X = np.ones((len(education), 2))\n",
        "X[:, 1] = education\n",
        "\n",
        "w = np.linalg.inv(X.T.dot(X)).dot(X.T).dot(y)"
      ]
    },
    {
      "cell_type": "code",
      "source": [
        "w"
      ],
      "metadata": {
        "colab": {
          "base_uri": "https://localhost:8080/"
        },
        "id": "92Tmxul_byNf",
        "outputId": "e271f076-ec2c-455d-90bc-df48ec122080"
      },
      "execution_count": 5,
      "outputs": [
        {
          "output_type": "execute_result",
          "data": {
            "text/plain": [
              "array([22913.33333333,  8634.28571429])"
            ]
          },
          "metadata": {},
          "execution_count": 5
        }
      ]
    },
    {
      "cell_type": "markdown",
      "source": [
        "Linear fit: Income is 23000 + 8600x, where x is education level."
      ],
      "metadata": {
        "id": "ZLZ1seYfcRtW"
      }
    }
  ]
}