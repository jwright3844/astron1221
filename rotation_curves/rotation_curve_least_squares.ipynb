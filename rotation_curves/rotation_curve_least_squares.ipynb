{
  "nbformat": 4,
  "nbformat_minor": 0,
  "metadata": {
    "colab": {
      "provenance": []
    },
    "kernelspec": {
      "name": "python3",
      "display_name": "Python 3"
    },
    "language_info": {
      "name": "python"
    }
  },
  "cells": [
    {
      "cell_type": "code",
      "source": [
        "import astropy.io.ascii\n",
        "import astropy.units as u\n",
        "import astropy.constants as const\n",
        "import numpy as np\n",
        "import sklearn.linear_model\n",
        "import matplotlib.pyplot as plt"
      ],
      "metadata": {
        "id": "Raz1Rz3ZS9AU"
      },
      "execution_count": null,
      "outputs": []
    },
    {
      "cell_type": "code",
      "execution_count": null,
      "metadata": {
        "colab": {
          "base_uri": "https://localhost:8080/",
          "height": 56
        },
        "id": "o4dNPXiVsBXn",
        "outputId": "c6c00df9-67ee-4243-f551-d296eceb018c"
      },
      "outputs": [
        {
          "output_type": "display_data",
          "data": {
            "text/plain": [
              "<IPython.core.display.HTML object>"
            ],
            "text/html": [
              "\n",
              "     <input type=\"file\" id=\"files-53e61445-2415-4e69-825d-75b53d128297\" name=\"files[]\" multiple disabled\n",
              "        style=\"border:none\" />\n",
              "     <output id=\"result-53e61445-2415-4e69-825d-75b53d128297\">\n",
              "      Upload widget is only available when the cell has been executed in the\n",
              "      current browser session. Please rerun this cell to enable.\n",
              "      </output>\n",
              "      <script>// Copyright 2017 Google LLC\n",
              "//\n",
              "// Licensed under the Apache License, Version 2.0 (the \"License\");\n",
              "// you may not use this file except in compliance with the License.\n",
              "// You may obtain a copy of the License at\n",
              "//\n",
              "//      http://www.apache.org/licenses/LICENSE-2.0\n",
              "//\n",
              "// Unless required by applicable law or agreed to in writing, software\n",
              "// distributed under the License is distributed on an \"AS IS\" BASIS,\n",
              "// WITHOUT WARRANTIES OR CONDITIONS OF ANY KIND, either express or implied.\n",
              "// See the License for the specific language governing permissions and\n",
              "// limitations under the License.\n",
              "\n",
              "/**\n",
              " * @fileoverview Helpers for google.colab Python module.\n",
              " */\n",
              "(function(scope) {\n",
              "function span(text, styleAttributes = {}) {\n",
              "  const element = document.createElement('span');\n",
              "  element.textContent = text;\n",
              "  for (const key of Object.keys(styleAttributes)) {\n",
              "    element.style[key] = styleAttributes[key];\n",
              "  }\n",
              "  return element;\n",
              "}\n",
              "\n",
              "// Max number of bytes which will be uploaded at a time.\n",
              "const MAX_PAYLOAD_SIZE = 100 * 1024;\n",
              "\n",
              "function _uploadFiles(inputId, outputId) {\n",
              "  const steps = uploadFilesStep(inputId, outputId);\n",
              "  const outputElement = document.getElementById(outputId);\n",
              "  // Cache steps on the outputElement to make it available for the next call\n",
              "  // to uploadFilesContinue from Python.\n",
              "  outputElement.steps = steps;\n",
              "\n",
              "  return _uploadFilesContinue(outputId);\n",
              "}\n",
              "\n",
              "// This is roughly an async generator (not supported in the browser yet),\n",
              "// where there are multiple asynchronous steps and the Python side is going\n",
              "// to poll for completion of each step.\n",
              "// This uses a Promise to block the python side on completion of each step,\n",
              "// then passes the result of the previous step as the input to the next step.\n",
              "function _uploadFilesContinue(outputId) {\n",
              "  const outputElement = document.getElementById(outputId);\n",
              "  const steps = outputElement.steps;\n",
              "\n",
              "  const next = steps.next(outputElement.lastPromiseValue);\n",
              "  return Promise.resolve(next.value.promise).then((value) => {\n",
              "    // Cache the last promise value to make it available to the next\n",
              "    // step of the generator.\n",
              "    outputElement.lastPromiseValue = value;\n",
              "    return next.value.response;\n",
              "  });\n",
              "}\n",
              "\n",
              "/**\n",
              " * Generator function which is called between each async step of the upload\n",
              " * process.\n",
              " * @param {string} inputId Element ID of the input file picker element.\n",
              " * @param {string} outputId Element ID of the output display.\n",
              " * @return {!Iterable<!Object>} Iterable of next steps.\n",
              " */\n",
              "function* uploadFilesStep(inputId, outputId) {\n",
              "  const inputElement = document.getElementById(inputId);\n",
              "  inputElement.disabled = false;\n",
              "\n",
              "  const outputElement = document.getElementById(outputId);\n",
              "  outputElement.innerHTML = '';\n",
              "\n",
              "  const pickedPromise = new Promise((resolve) => {\n",
              "    inputElement.addEventListener('change', (e) => {\n",
              "      resolve(e.target.files);\n",
              "    });\n",
              "  });\n",
              "\n",
              "  const cancel = document.createElement('button');\n",
              "  inputElement.parentElement.appendChild(cancel);\n",
              "  cancel.textContent = 'Cancel upload';\n",
              "  const cancelPromise = new Promise((resolve) => {\n",
              "    cancel.onclick = () => {\n",
              "      resolve(null);\n",
              "    };\n",
              "  });\n",
              "\n",
              "  // Wait for the user to pick the files.\n",
              "  const files = yield {\n",
              "    promise: Promise.race([pickedPromise, cancelPromise]),\n",
              "    response: {\n",
              "      action: 'starting',\n",
              "    }\n",
              "  };\n",
              "\n",
              "  cancel.remove();\n",
              "\n",
              "  // Disable the input element since further picks are not allowed.\n",
              "  inputElement.disabled = true;\n",
              "\n",
              "  if (!files) {\n",
              "    return {\n",
              "      response: {\n",
              "        action: 'complete',\n",
              "      }\n",
              "    };\n",
              "  }\n",
              "\n",
              "  for (const file of files) {\n",
              "    const li = document.createElement('li');\n",
              "    li.append(span(file.name, {fontWeight: 'bold'}));\n",
              "    li.append(span(\n",
              "        `(${file.type || 'n/a'}) - ${file.size} bytes, ` +\n",
              "        `last modified: ${\n",
              "            file.lastModifiedDate ? file.lastModifiedDate.toLocaleDateString() :\n",
              "                                    'n/a'} - `));\n",
              "    const percent = span('0% done');\n",
              "    li.appendChild(percent);\n",
              "\n",
              "    outputElement.appendChild(li);\n",
              "\n",
              "    const fileDataPromise = new Promise((resolve) => {\n",
              "      const reader = new FileReader();\n",
              "      reader.onload = (e) => {\n",
              "        resolve(e.target.result);\n",
              "      };\n",
              "      reader.readAsArrayBuffer(file);\n",
              "    });\n",
              "    // Wait for the data to be ready.\n",
              "    let fileData = yield {\n",
              "      promise: fileDataPromise,\n",
              "      response: {\n",
              "        action: 'continue',\n",
              "      }\n",
              "    };\n",
              "\n",
              "    // Use a chunked sending to avoid message size limits. See b/62115660.\n",
              "    let position = 0;\n",
              "    do {\n",
              "      const length = Math.min(fileData.byteLength - position, MAX_PAYLOAD_SIZE);\n",
              "      const chunk = new Uint8Array(fileData, position, length);\n",
              "      position += length;\n",
              "\n",
              "      const base64 = btoa(String.fromCharCode.apply(null, chunk));\n",
              "      yield {\n",
              "        response: {\n",
              "          action: 'append',\n",
              "          file: file.name,\n",
              "          data: base64,\n",
              "        },\n",
              "      };\n",
              "\n",
              "      let percentDone = fileData.byteLength === 0 ?\n",
              "          100 :\n",
              "          Math.round((position / fileData.byteLength) * 100);\n",
              "      percent.textContent = `${percentDone}% done`;\n",
              "\n",
              "    } while (position < fileData.byteLength);\n",
              "  }\n",
              "\n",
              "  // All done.\n",
              "  yield {\n",
              "    response: {\n",
              "      action: 'complete',\n",
              "    }\n",
              "  };\n",
              "}\n",
              "\n",
              "scope.google = scope.google || {};\n",
              "scope.google.colab = scope.google.colab || {};\n",
              "scope.google.colab._files = {\n",
              "  _uploadFiles,\n",
              "  _uploadFilesContinue,\n",
              "};\n",
              "})(self);\n",
              "</script> "
            ]
          },
          "metadata": {}
        },
        {
          "output_type": "stream",
          "name": "stdout",
          "text": [
            "Saving galaxy_rotation_2006.txt to galaxy_rotation_2006.txt\n"
          ]
        }
      ],
      "source": [
        "from google.colab import files\n",
        "uploaded = files.upload()"
      ]
    },
    {
      "cell_type": "code",
      "source": [
        "# Galaxy rotation curve data\n",
        "# col2 - distance (kpc), col3 - velocity (km/s), col4 - velocity error\n",
        "tab = astropy.io.ascii.read(\"galaxy_rotation_2006.txt\")"
      ],
      "metadata": {
        "id": "-i7gGl7wsUIl"
      },
      "execution_count": null,
      "outputs": []
    },
    {
      "cell_type": "markdown",
      "source": [
        "We have a dataset summarizing the observed rotation curve of the Milky Way.\n",
        "\n",
        "Our goal is to ascertain the mass distribution of the Milky Way from these data. To do this, we use the model\n",
        "$$ v(r) = \\sqrt{m(r) G \\over r} $$\n",
        "where $G$ is the gravitational constant, $r$ is orbital radius, and $m(r)$ is the mass enclosed by $r$. We will model the milky way as having a point mass at the center, surrounded by a disc of radius $r_d = 10 \\text{ kpc}$ and spherical halo of radius > 35 kpc. Using this model, we have\n",
        "$$ m(r) = m_b + \\rho_d \\pi \\min(r^2, r_d^2) + \\rho_h {4\\over 3} \\pi r^3 $$\n",
        "where $m_b$ is the mass of the central galactic bulge, $\\rho_d$ is the density of the disc, and $\\rho_h$ is the density of the halo.\n",
        "\n",
        "The goal is then to estimate the parameters $m_b, \\rho_d$, and $\\rho_h$.\n",
        "\n",
        "One way of doing this is to write\n",
        "\n",
        "$$ {v^2 \\over G} = m_b{1 \\over r} + \\rho_d {\\pi \\min(r^2, r_d^2)\\over r} + \\rho_h {4 \\over 3} \\pi r^2$$\n",
        "\n",
        "from which point standard least-squares linear regression can be applied."
      ],
      "metadata": {
        "id": "wVsygrQXVeXn"
      }
    },
    {
      "cell_type": "code",
      "source": [
        "# Using linear regression\n",
        "\n",
        "# calculate left-hand variables\n",
        "v = tab[\"col3\"] * u.km/u.s\n",
        "G = const.G\n",
        "\n",
        "y = (v**2 / G).to(u.kg/u.m)\n",
        "\n",
        "\n",
        "# calculate right-hand variables\n",
        "r = (tab[\"col2\"] * u.kpc).to(u.m)\n",
        "r_d = (10 * u.kpc).to(u.m)\n",
        "\n",
        "x_1 = 1 / r\n",
        "x_2 = np.pi * np.minimum(r**2, r_d**2) / r\n",
        "x_3 = (4/3) * np.pi * r**2\n",
        "\n",
        "X = np.array([x_1, x_2, x_3]).T\n",
        "\n",
        "# fit model\n",
        "coefs = np.linalg.inv(X.T @ X) @ X.T @ y\n",
        "coefs = coefs.value"
      ],
      "metadata": {
        "id": "_wWQKNNqbth6"
      },
      "execution_count": null,
      "outputs": []
    },
    {
      "cell_type": "code",
      "source": [
        "masses = np.arange(3) * u.solMass\n",
        "masses[0] = (coefs[0] * u.kg).to(u.solMass)\n",
        "masses[1] = (coefs[1] * u.kg / u.m**2 * np.pi * r_d ** 2).to(u.solMass)\n",
        "masses[2] = (coefs[2] * u.kg / u.m**3 * 4/3 * np.pi * (35 * u.kpc)**3).to(u.solMass)\n",
        "masses"
      ],
      "metadata": {
        "colab": {
          "base_uri": "https://localhost:8080/",
          "height": 37
        },
        "id": "Xc4kxJPkgKMZ",
        "outputId": "91e060d0-fd9d-4cab-c74d-d05d480d3fff"
      },
      "execution_count": null,
      "outputs": [
        {
          "output_type": "execute_result",
          "data": {
            "text/plain": [
              "<Quantity [1.97021220e+10, 1.55068946e+11, 2.93321811e+11] solMass>"
            ],
            "text/latex": "$[1.9702122 \\times 10^{10},~1.5506895 \\times 10^{11},~2.9332181 \\times 10^{11}] \\; \\mathrm{M_{\\odot}}$"
          },
          "metadata": {},
          "execution_count": 102
        }
      ]
    },
    {
      "cell_type": "code",
      "source": [
        "y_hat = coefs[0] * u.kg * x_1 + coefs[1] * (u.kg / u.m**2) * x_2 + coefs[2] * (u.kg / u.m**3) * x_3\n",
        "y_hat\n",
        "\n",
        "v_hat = np.sqrt((y_hat) * G).to(u.km/u.s)\n",
        "\n",
        "plt.plot(r.to(u.kpc), v_hat)\n",
        "plt.errorbar(tab[\"col2\"], tab[\"col3\"], yerr=tab[\"col4\"], ecolor=\"black\", color=\"black\", fmt='o', label=\"Data\")\n",
        "\n",
        "reg.coef_"
      ],
      "metadata": {
        "colab": {
          "base_uri": "https://localhost:8080/",
          "height": 449
        },
        "id": "2yV1iXg4c0AF",
        "outputId": "85fda764-9531-4cf0-ccc8-b076c26640e1"
      },
      "execution_count": null,
      "outputs": [
        {
          "output_type": "execute_result",
          "data": {
            "text/plain": [
              "array([1.15884062e-85, 0.00000000e+00, 2.61619243e-22])"
            ]
          },
          "metadata": {},
          "execution_count": 89
        },
        {
          "output_type": "display_data",
          "data": {
            "text/plain": [
              "<Figure size 640x480 with 1 Axes>"
            ],
            "image/png": "[encoded data removed]"
          },
          "metadata": {}
        }
      ]
    }
  ]
}