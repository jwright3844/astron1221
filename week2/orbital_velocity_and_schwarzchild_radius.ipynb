{
  "nbformat": 4,
  "nbformat_minor": 0,
  "metadata": {
    "colab": {
      "provenance": []
    },
    "kernelspec": {
      "name": "python3",
      "display_name": "Python 3"
    },
    "language_info": {
      "name": "python"
    }
  },
  "cells": [
    {
      "cell_type": "code",
      "execution_count": null,
      "metadata": {
        "id": "bAviCmqGJb3T"
      },
      "outputs": [],
      "source": [
        "import astropy.constants as const # access physical constants important in astronomy\n",
        "import astropy.units as u # access units important in astronomy\n",
        "import numpy as np # fundamental package for scientific computing with Python"
      ]
    },
    {
      "cell_type": "markdown",
      "source": [
        "1. Calculating orbital velocity of (a) Earth around the Sun and (b) a satellite around the Earth.\n",
        "\n",
        "$$V = \\sqrt{GM \\over R}$$ is the equation for orbital velocity, where $V$ is orbital velocity, $G$ is the gravitational constant, $M$ is the mass of the object at the center of the orbit, and $R$ is the orbital radius.\n"
      ],
      "metadata": {
        "id": "bJj1QHERJhJl"
      }
    },
    {
      "cell_type": "code",
      "source": [
        "# 1a: orbital velocity of earth around the sun\n",
        "G = const.G # gravitational constant\n",
        "M.sun = 1 * u.solMass # mass of the sun\n",
        "R.earth = 1 * u.AU # orbital radius of earth around the sun\n",
        "V.earth = np.sqrt(G * M.sun / R.earth) # orbital velocity of earth around the sun\n",
        "\n",
        "print(V.earth.to(u.km/u.s))"
      ],
      "metadata": {
        "colab": {
          "base_uri": "https://localhost:8080/"
        },
        "id": "LyirevxYJ0ix",
        "outputId": "f57cc508-b032-40b8-bb99-54939b55afc1"
      },
      "execution_count": null,
      "outputs": [
        {
          "output_type": "stream",
          "name": "stdout",
          "text": [
            "29.784691829676934 km / s\n"
          ]
        }
      ]
    },
    {
      "cell_type": "code",
      "source": [
        "# 1b: orbital velocity of satellite around the earth\n",
        "M.earth = 1 * u.earthMass # mass of the earth\n",
        "R.satellite = 1 * const.R_earth # orbital radius of satellite around the earth\n",
        "V.satellite = np.sqrt(G * M.earth / R.satellite) # orbital velocity of satellite around the earth\n",
        "\n",
        "print(V.satellite.to(u.km/u.s))"
      ],
      "metadata": {
        "colab": {
          "base_uri": "https://localhost:8080/"
        },
        "id": "dHQuCKKoL0hZ",
        "outputId": "3d4de22a-87ba-4bc9-e597-54ca585cd25b"
      },
      "execution_count": null,
      "outputs": [
        {
          "output_type": "stream",
          "name": "stdout",
          "text": [
            "7.90538823438528 km / s\n"
          ]
        }
      ]
    },
    {
      "cell_type": "markdown",
      "source": [
        "Calculating the Schwarzchild radius of a solar-mass blackhole. The equation for the Schwarzchild radius is\n",
        "\n",
        "$$ R = {GM \\over c^2} $$\n",
        "\n",
        "where $R$ is the Schwarzchild radius, $G$ is the gravitational constant, $M$ is the mass of the black hole, and $c$ is the speed of light.\n",
        "\n",
        "(note that this equation may be wrong by a factor of two)"
      ],
      "metadata": {
        "id": "Ddbqga6JMZjv"
      }
    },
    {
      "cell_type": "code",
      "source": [
        "G = const.G # gravitational constant\n",
        "M.blackhole = 1 * u.solMass # mass of the black hole\n",
        "R.blackhole = G * M.blackhole / (const.c)**2 # Schwarzchild radius of the black hole\n",
        "print(R.blackhole.to(u.km))\n"
      ],
      "metadata": {
        "colab": {
          "base_uri": "https://localhost:8080/"
        },
        "id": "V8Uw0w9VM0jn",
        "outputId": "465b96f5-8806-4be5-e697-589730270124"
      },
      "execution_count": null,
      "outputs": [
        {
          "output_type": "stream",
          "name": "stdout",
          "text": [
            "1.476625038050125 km\n"
          ]
        }
      ]
    }
  ]
}