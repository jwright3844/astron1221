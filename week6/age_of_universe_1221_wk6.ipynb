{
  "nbformat": 4,
  "nbformat_minor": 0,
  "metadata": {
    "colab": {
      "provenance": []
    },
    "kernelspec": {
      "name": "python3",
      "display_name": "Python 3"
    },
    "language_info": {
      "name": "python"
    }
  },
  "cells": [
    {
      "cell_type": "code",
      "execution_count": null,
      "metadata": {
        "id": "A6e7SdyhB62u"
      },
      "outputs": [],
      "source": [
        "import astropy.units as u"
      ]
    },
    {
      "cell_type": "code",
      "source": [
        "H = 70 * (u.km / u.s) / u.Mpc # Hubble constant\n",
        "T_0 = 1 / H\n",
        "T_0.to(u.year)"
      ],
      "metadata": {
        "colab": {
          "base_uri": "https://localhost:8080/",
          "height": 37
        },
        "id": "sgMGW6aCCPbW",
        "outputId": "fc67e030-a4fd-460f-e4f2-52276efa4224"
      },
      "execution_count": null,
      "outputs": [
        {
          "output_type": "execute_result",
          "data": {
            "text/plain": [
              "<Quantity 1.39684603e+10 yr>"
            ],
            "text/latex": "$1.396846 \\times 10^{10} \\; \\mathrm{yr}$"
          },
          "metadata": {},
          "execution_count": 5
        }
      ]
    },
    {
      "cell_type": "code",
      "source": [
        "# find time for galaxies moving at 70 km/s to move 1 Mpc apart\n",
        "\n",
        "t = 1 * u.Mpc / (70 * u.km / u.s)\n",
        "t.to(u.year)"
      ],
      "metadata": {
        "colab": {
          "base_uri": "https://localhost:8080/",
          "height": 37
        },
        "id": "RvXZEWlkDfmI",
        "outputId": "eca70545-6e04-47f1-e271-e2ebf9e5fc0d"
      },
      "execution_count": null,
      "outputs": [
        {
          "output_type": "execute_result",
          "data": {
            "text/plain": [
              "<Quantity 1.39684603e+10 yr>"
            ],
            "text/latex": "$1.396846 \\times 10^{10} \\; \\mathrm{yr}$"
          },
          "metadata": {},
          "execution_count": 12
        }
      ]
    }
  ]
}