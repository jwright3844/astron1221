{
  "nbformat": 4,
  "nbformat_minor": 0,
  "metadata": {
    "colab": {
      "provenance": []
    },
    "kernelspec": {
      "name": "python3",
      "display_name": "Python 3"
    },
    "language_info": {
      "name": "python"
    }
  },
  "cells": [
    {
      "cell_type": "markdown",
      "source": [
        "Velocity of the sun induced by gravity of Earth and Jupiter."
      ],
      "metadata": {
        "id": "H3DZek26Z9q5"
      }
    },
    {
      "cell_type": "code",
      "execution_count": 1,
      "metadata": {
        "id": "LJ3gLo7vZvOv"
      },
      "outputs": [],
      "source": [
        "import astropy.units as u\n",
        "import astropy.constants as const\n",
        "import numpy as np"
      ]
    },
    {
      "cell_type": "code",
      "source": [
        "def get_sun_velocity(m_planet, a_planet):\n",
        "  m_sun = 1 * u.solMass\n",
        "  # use equation $v_orb = sqrt{GM / a}\n",
        "  v_planet = np.sqrt(const.G * m_sun / a_planet)\n",
        "\n",
        "  # use equation v_sun = (m_planet / m_sun) * v_planet\n",
        "  v_sun = (m_planet / m_sun) * v_planet\n",
        "  return v_sun.to(u.m / u.s)"
      ],
      "metadata": {
        "id": "Pt2z2_eaa53r"
      },
      "execution_count": 5,
      "outputs": []
    },
    {
      "cell_type": "code",
      "source": [
        "# radial velocity signal for Earth\n",
        "get_sun_velocity(1 * u.earthMass, 1 * u.au)"
      ],
      "metadata": {
        "colab": {
          "base_uri": "https://localhost:8080/",
          "height": 38
        },
        "id": "m3jZFvkJe2XB",
        "outputId": "93fc0dab-fab7-4825-d472-b0122076269e"
      },
      "execution_count": 6,
      "outputs": [
        {
          "output_type": "execute_result",
          "data": {
            "text/plain": [
              "<Quantity 0.089458 m / s>"
            ],
            "text/latex": "$0.089458005 \\; \\mathrm{\\frac{m}{s}}$"
          },
          "metadata": {},
          "execution_count": 6
        }
      ]
    },
    {
      "cell_type": "code",
      "source": [
        "# radial velocity signal for Jupiter\n",
        "get_sun_velocity(1 * u.jupiterMass, 5.2 * u.au)"
      ],
      "metadata": {
        "colab": {
          "base_uri": "https://localhost:8080/",
          "height": 38
        },
        "id": "z-CxMpIJfN7A",
        "outputId": "5cfb9be8-31e7-4fca-bced-2692e653fb08"
      },
      "execution_count": 7,
      "outputs": [
        {
          "output_type": "execute_result",
          "data": {
            "text/plain": [
              "<Quantity 12.4683862 m / s>"
            ],
            "text/latex": "$12.468386 \\; \\mathrm{\\frac{m}{s}}$"
          },
          "metadata": {},
          "execution_count": 7
        }
      ]
    }
  ]
}